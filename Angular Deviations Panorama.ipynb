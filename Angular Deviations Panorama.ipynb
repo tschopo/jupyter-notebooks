{
 "cells": [
  {
   "cell_type": "markdown",
   "metadata": {},
   "source": [
    "# Calculate the angular deviations of the red markers (compare figure 3.8 in Thesis)"
   ]
  },
  {
   "cell_type": "code",
   "execution_count": 1,
   "metadata": {},
   "outputs": [],
   "source": [
    "%matplotlib inline\n",
    "import numpy as np\n",
    "import pandas as pd\n",
    "from PIL import Image"
   ]
  },
  {
   "cell_type": "code",
   "execution_count": 2,
   "metadata": {},
   "outputs": [],
   "source": [
    "im = Image.open(\"11_VERGLEICH_klein_klein.jpg\")"
   ]
  },
  {
   "cell_type": "code",
   "execution_count": null,
   "metadata": {},
   "outputs": [],
   "source": [
    "im.show()"
   ]
  },
  {
   "cell_type": "code",
   "execution_count": null,
   "metadata": {},
   "outputs": [],
   "source": [
    "\n",
    "# first 5 points from viewpoint 1, last 6 points from viewpoint 2\n",
    "measurements = pd.DataFrame([[560,649],\n",
    "[1520,1479],\n",
    "[2413,2313],\n",
    "[4174,4157],\n",
    "[5158,4999],\n",
    "[256,322],\n",
    "[1446,1562],\n",
    "[3311,3235],\n",
    "[3910,3916],\n",
    "[4432,4496],\n",
    "[5826,5846]], columns=[\"Pos1\",\"Pos2\"])"
   ]
  },
  {
   "cell_type": "code",
   "execution_count": null,
   "metadata": {},
   "outputs": [],
   "source": [
    "measurements[\"abs_diff\"] = np.abs(measurements[\"Pos1\"] - measurements[\"Pos2\"])"
   ]
  },
  {
   "cell_type": "code",
   "execution_count": null,
   "metadata": {},
   "outputs": [],
   "source": [
    "# panorama is 5990 pixels and covers 360 degrees\n",
    "pixels_in_degrees = 360 / 5990"
   ]
  },
  {
   "cell_type": "code",
   "execution_count": null,
   "metadata": {},
   "outputs": [],
   "source": [
    "measurements[\"abs_diff_deg\"] = measurements[\"abs_diff\"]*pixels_in_degrees"
   ]
  },
  {
   "cell_type": "code",
   "execution_count": null,
   "metadata": {},
   "outputs": [],
   "source": [
    "np.mean(measurements[\"abs_diff_deg\"])"
   ]
  },
  {
   "cell_type": "code",
   "execution_count": null,
   "metadata": {},
   "outputs": [],
   "source": [
    "np.std(measurements[\"abs_diff_deg\"])"
   ]
  }
 ],
 "metadata": {
  "kernelspec": {
   "display_name": "Python 3",
   "language": "python",
   "name": "python3"
  },
  "language_info": {
   "codemirror_mode": {
    "name": "ipython",
    "version": 3
   },
   "file_extension": ".py",
   "mimetype": "text/x-python",
   "name": "python",
   "nbconvert_exporter": "python",
   "pygments_lexer": "ipython3",
   "version": "3.6.5"
  }
 },
 "nbformat": 4,
 "nbformat_minor": 2
}
