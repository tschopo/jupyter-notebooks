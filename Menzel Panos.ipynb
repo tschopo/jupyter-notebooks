{
 "cells": [
  {
   "cell_type": "code",
   "execution_count": 1,
   "metadata": {},
   "outputs": [],
   "source": [
    "%matplotlib inline"
   ]
  },
  {
   "cell_type": "code",
   "execution_count": 2,
   "metadata": {
    "ExecuteTime": {
     "end_time": "2018-11-11T19:28:51.919634Z",
     "start_time": "2018-11-11T19:28:51.576657Z"
    }
   },
   "outputs": [],
   "source": [
    "import numpy as np\n",
    "import pandas as pd\n",
    "import geopy.distance\n",
    "import math\n",
    "import radartrack as rt\n",
    "from PIL import Image as Image\n",
    "from pprint import pprint\n",
    "import beeview\n",
    "import matplotlib.pyplot as plt\n",
    "from scipy import ndimage as ndi\n",
    "from skimage import feature\n",
    "import glob\n",
    "import os\n",
    "import re"
   ]
  },
  {
   "cell_type": "code",
   "execution_count": 3,
   "metadata": {
    "ExecuteTime": {
     "end_time": "2018-11-11T19:46:22.587906Z",
     "start_time": "2018-11-11T19:46:22.574303Z"
    }
   },
   "outputs": [],
   "source": [
    "data = pd.read_csv('coors_menzel_panos.txt', sep=';', header=None)"
   ]
  },
  {
   "cell_type": "code",
   "execution_count": 4,
   "metadata": {
    "ExecuteTime": {
     "end_time": "2018-11-11T19:46:23.004000Z",
     "start_time": "2018-11-11T19:46:22.973257Z"
    }
   },
   "outputs": [
    {
     "data": {
      "text/html": [
       "<div>\n",
       "<style scoped>\n",
       "    .dataframe tbody tr th:only-of-type {\n",
       "        vertical-align: middle;\n",
       "    }\n",
       "\n",
       "    .dataframe tbody tr th {\n",
       "        vertical-align: top;\n",
       "    }\n",
       "\n",
       "    .dataframe thead th {\n",
       "        text-align: right;\n",
       "    }\n",
       "</style>\n",
       "<table border=\"1\" class=\"dataframe\">\n",
       "  <thead>\n",
       "    <tr style=\"text-align: right;\">\n",
       "      <th></th>\n",
       "      <th>0</th>\n",
       "      <th>1</th>\n",
       "      <th>2</th>\n",
       "    </tr>\n",
       "  </thead>\n",
       "  <tbody>\n",
       "    <tr>\n",
       "      <th>0</th>\n",
       "      <td>Fig_5_A_B_Hive</td>\n",
       "      <td>50°48'51.83\"N</td>\n",
       "      <td>8°52'20.67\"E</td>\n",
       "    </tr>\n",
       "    <tr>\n",
       "      <th>1</th>\n",
       "      <td>Fig_5_A_B_Feeder</td>\n",
       "      <td>50°49'3.68\"N</td>\n",
       "      <td>8°52'14.60\"E</td>\n",
       "    </tr>\n",
       "    <tr>\n",
       "      <th>2</th>\n",
       "      <td>Fig_5_A_B_Release_site</td>\n",
       "      <td>50°49'10.94\"N</td>\n",
       "      <td>8°52'40.14\"E</td>\n",
       "    </tr>\n",
       "    <tr>\n",
       "      <th>3</th>\n",
       "      <td>Fig_6_A_B_C_Hive</td>\n",
       "      <td>50°48'51.83\"N</td>\n",
       "      <td>8°52'20.67\"E</td>\n",
       "    </tr>\n",
       "    <tr>\n",
       "      <th>4</th>\n",
       "      <td>Fig_6_A_B_C_Feeder_F1</td>\n",
       "      <td>50°48'58.31\"N</td>\n",
       "      <td>8°52'33.31\"E</td>\n",
       "    </tr>\n",
       "  </tbody>\n",
       "</table>\n",
       "</div>"
      ],
      "text/plain": [
       "                        0              1             2\n",
       "0          Fig_5_A_B_Hive  50°48'51.83\"N  8°52'20.67\"E\n",
       "1        Fig_5_A_B_Feeder   50°49'3.68\"N  8°52'14.60\"E\n",
       "2  Fig_5_A_B_Release_site  50°49'10.94\"N  8°52'40.14\"E\n",
       "3        Fig_6_A_B_C_Hive  50°48'51.83\"N  8°52'20.67\"E\n",
       "4   Fig_6_A_B_C_Feeder_F1  50°48'58.31\"N  8°52'33.31\"E"
      ]
     },
     "execution_count": 4,
     "metadata": {},
     "output_type": "execute_result"
    }
   ],
   "source": [
    "data.head()"
   ]
  },
  {
   "cell_type": "code",
   "execution_count": 5,
   "metadata": {
    "ExecuteTime": {
     "end_time": "2018-11-11T19:45:17.223769Z",
     "start_time": "2018-11-11T19:45:17.127714Z"
    }
   },
   "outputs": [],
   "source": [
    "def dms2dd(degrees, minutes, seconds, direction):\n",
    "    dd = float(degrees) + float(minutes)/60 + float(seconds)/(60*60);\n",
    "    if direction == 'S' or direction == 'W':\n",
    "        dd *= -1\n",
    "    return dd;\n",
    "\n",
    "def dd2dms(deg):\n",
    "    d = int(deg)\n",
    "    md = abs(deg - d) * 60\n",
    "    m = int(md)\n",
    "    sd = (md - m) * 60\n",
    "    return [d, m, sd]\n",
    "\n",
    "def parse_dms(dms):\n",
    "    parts = re.split('[^\\d\\.\\w]+', dms)\n",
    "    lat = dms2dd(parts[0], parts[1], parts[2], parts[3])\n",
    "    lng = dms2dd(parts[4], parts[5], parts[6], parts[7])\n",
    "\n",
    "    return [lat, lng]\n",
    "\n",
    "def convert_coords(coords):\n",
    "    \"\"\" convert the gps coordinates to the coordinates used by beeview \"\"\"\n",
    "    \n",
    "    radar_coords = (50.814512, 8.872433) # from google maps\n",
    "    \n",
    "    dist_y = geopy.distance.geodesic(radar_coords,(coords[0],radar_coords[1])).m\n",
    "    dist_x = geopy.distance.geodesic(radar_coords,(radar_coords[0],coords[1])).m\n",
    "    \n",
    "    if radar_coords[1] > coords[1]:\n",
    "        dist_x *= (-1)\n",
    "        \n",
    "    if radar_coords[0] > coords[0]:\n",
    "        dist_y *= (-1)\n",
    "    \n",
    "    return (dist_x,dist_y)"
   ]
  },
  {
   "cell_type": "code",
   "execution_count": 6,
   "metadata": {
    "ExecuteTime": {
     "end_time": "2018-11-11T19:51:06.903491Z",
     "start_time": "2018-11-11T19:51:06.873677Z"
    }
   },
   "outputs": [],
   "source": [
    "# convert the dms coordinates to dd coordinates\n",
    "\n",
    "res = []\n",
    "for i in range(data.shape[0]):\n",
    "    res.append([i]+parse_dms(data.loc[i,1]+\" \"+data.loc[i,2]))"
   ]
  },
  {
   "cell_type": "code",
   "execution_count": 7,
   "metadata": {
    "ExecuteTime": {
     "end_time": "2018-11-11T19:51:09.503823Z",
     "start_time": "2018-11-11T19:51:09.492190Z"
    }
   },
   "outputs": [],
   "source": [
    "# save as csv txt\n",
    "\n",
    "np.savetxt(\"coords_dd.txt\", res, delimiter=\",\", fmt=\"%10.10f\")"
   ]
  },
  {
   "cell_type": "code",
   "execution_count": 8,
   "metadata": {},
   "outputs": [],
   "source": [
    "# load from disk\n",
    "\n",
    "coords_to_render = np.genfromtxt(\"coords_dd.txt\", delimiter=\",\")"
   ]
  },
  {
   "cell_type": "code",
   "execution_count": 9,
   "metadata": {},
   "outputs": [],
   "source": [
    "# get the names of the places (e.g. \"Fig_5_A_B_Hive\")\n",
    "\n",
    "labels = data[0].tolist()"
   ]
  },
  {
   "cell_type": "code",
   "execution_count": null,
   "metadata": {},
   "outputs": [],
   "source": [
    "# start movie maker and load scene \n",
    "\n",
    "movie_maker = rt.movie.MovieMaker(scene='hessen_2016') "
   ]
  },
  {
   "cell_type": "code",
   "execution_count": null,
   "metadata": {},
   "outputs": [],
   "source": [
    "markers = []\n",
    "\n",
    "for i, coords in enumerate(coords_to_render):\n",
    "\n",
    "    movie_maker.renderer.mode = beeview.Renderer.BeeEye\n",
    "    movie_maker.renderer.set_ommatidium_size(1)\n",
    "\n",
    "    p = convert_coords((coords[1],coords[2]))\n",
    "    \n",
    "    markers.append(rt.map.Marker(p,size=50, label=labels[i]))\n",
    "\n",
    "    continue\n",
    "    pos = movie_maker.to_3D_coordinates(p, height = 4)\n",
    "    movie_maker.renderer.position = pos\n",
    "\n",
    "    # west\n",
    "    movie_maker.renderer.direction = [-1,0,0]\n",
    "\n",
    "    image = movie_maker.renderer.render()\n",
    "\n",
    "    # save the image\n",
    "    Image.fromarray(image).save(\"menzel_panos_1px/beeview_west_\"+labels[i]+\".png\")\n",
    "\n",
    "    # change direction to east\n",
    "    movie_maker.renderer.direction = [1,0,0]\n",
    "\n",
    "    image = movie_maker.renderer.render()\n",
    "\n",
    "    # save the image\n",
    "    Image.fromarray(image).save(\"menzel_panos_1px/beeview_east_\"+labels[i]+\".png\")\n",
    "    \n",
    "\"\"\"\n",
    "    # panoramic image\n",
    "    movie_maker.renderer.mode = beeview.Renderer.Panoramic\n",
    "    image = movie_maker.renderer.render()\n",
    "\n",
    "    # save the image\n",
    "    Image.fromarray(image).save(\"menzel_panos_1px/pano_\"+labels[i]+\".png\")\n",
    "\"\"\""
   ]
  },
  {
   "cell_type": "code",
   "execution_count": null,
   "metadata": {},
   "outputs": [],
   "source": [
    "# plot the positions\n",
    "plotter = rt.plot.Plotter()\n",
    "plotter.new_figure(figsize=(16, 12)) \\\n",
    "       .set_map( rt.data.maps['drone_map', 'color_small']) \\\n",
    "       .set_markers(markers) \\\n",
    "       .plot() \\\n",
    "       .show()"
   ]
  },
  {
   "cell_type": "code",
   "execution_count": null,
   "metadata": {},
   "outputs": [],
   "source": [
    "# calculate the michelson contrast for all images\n",
    "\n",
    "# load beeviews from disk\n",
    "images = []\n",
    "ids = []\n",
    "for filename in glob.glob('menzel_panos_1px/beeview*.png'):\n",
    "    \n",
    "    ids.append(os.path.splitext(os.path.basename(filename))[0])\n",
    "    \n",
    "    images.append((np.array(Image.open(filename)) @ [0.299, 0.587, 0.114])/255)\n",
    "    \n",
    "images = np.array(images)"
   ]
  },
  {
   "cell_type": "code",
   "execution_count": null,
   "metadata": {},
   "outputs": [],
   "source": [
    "images.shape"
   ]
  },
  {
   "cell_type": "code",
   "execution_count": null,
   "metadata": {},
   "outputs": [],
   "source": [
    "images_michelson = images.reshape(images.shape[0],images.shape[1]*images.shape[2]).copy() # make that each image is 1 array"
   ]
  },
  {
   "cell_type": "code",
   "execution_count": null,
   "metadata": {},
   "outputs": [],
   "source": [
    "images_michelson[images_michelson == 0] = np.nan\n",
    "images_michelson[images_michelson == 1] = np.nan"
   ]
  },
  {
   "cell_type": "code",
   "execution_count": null,
   "metadata": {},
   "outputs": [],
   "source": [
    "im = np.copy(images_michelson[0].reshape(131,112))\n",
    "im[np.isnan(im)] = 0\n",
    "plt.imshow(im, cmap=\"gray\")\n",
    "plt.show()"
   ]
  },
  {
   "cell_type": "code",
   "execution_count": null,
   "metadata": {},
   "outputs": [],
   "source": [
    "contrast = (np.nanmax(images_michelson, axis=1) - np.nanmin(images_michelson, axis=1))/(np.nanmax(images_michelson, axis=1) + np.nanmin(images_michelson, axis=1))"
   ]
  },
  {
   "cell_type": "code",
   "execution_count": null,
   "metadata": {},
   "outputs": [],
   "source": [
    "# mask of the ground area\n",
    "images_michelson = images_michelson.reshape(48,131,112)\n",
    "images_michelson[:,0:68,:] = np.nan"
   ]
  },
  {
   "cell_type": "code",
   "execution_count": null,
   "metadata": {},
   "outputs": [],
   "source": [
    "im = np.copy(images_michelson[0])\n",
    "im[np.isnan(im)] = 0\n",
    "plt.imshow(images_michelson[0], cmap=\"gray\")\n",
    "plt.show()"
   ]
  },
  {
   "cell_type": "code",
   "execution_count": null,
   "metadata": {},
   "outputs": [],
   "source": [
    "images_michelson = images_michelson.reshape(48,131*112) # make that each image is 1 array"
   ]
  },
  {
   "cell_type": "code",
   "execution_count": null,
   "metadata": {},
   "outputs": [],
   "source": [
    "contrast_masked = (np.nanmax(images_michelson, axis=1) - np.nanmin(images_michelson, axis=1))/(np.nanmax(images_michelson, axis=1) + np.nanmin(images_michelson, axis=1))"
   ]
  },
  {
   "cell_type": "code",
   "execution_count": null,
   "metadata": {},
   "outputs": [],
   "source": [
    "df = pd.DataFrame(data = {\"ID\": ids, \"contrast\": contrast, \"contrast_masked\": contrast_masked})\n",
    "df.head()"
   ]
  },
  {
   "cell_type": "code",
   "execution_count": null,
   "metadata": {},
   "outputs": [],
   "source": [
    "df.to_csv(\"contrasts.csv\", index=False)"
   ]
  },
  {
   "cell_type": "code",
   "execution_count": null,
   "metadata": {},
   "outputs": [],
   "source": [
    "print(\"contrast_mean: \" + str(contrast.mean()))\n",
    "print(\"contrast_std: \" + str(contrast.std()))\n",
    "print(\"contrast_masked_mean: \" + str(contrast_masked.mean()))\n",
    "print(\"contrast_masked_std: \" + str(contrast_masked.std()))"
   ]
  },
  {
   "cell_type": "code",
   "execution_count": null,
   "metadata": {},
   "outputs": [],
   "source": [
    "print(images.max())\n",
    "print(images.min())"
   ]
  },
  {
   "cell_type": "code",
   "execution_count": null,
   "metadata": {},
   "outputs": [],
   "source": [
    "mask = images[0].copy()\n",
    "mask[mask!=0] = 1\n",
    "mask[0:68,:] = 0\n",
    "mask = mask.astype(int)\n",
    "mask = mask.astype(bool)\n",
    "\n",
    "plt.imshow(mask, cmap=\"gray\")\n",
    "plt.show()"
   ]
  },
  {
   "cell_type": "code",
   "execution_count": null,
   "metadata": {},
   "outputs": [],
   "source": [
    "im1 = images[0].copy()\n",
    "edges1 = feature.canny(im1, sigma=2, low_threshold=0.05, high_threshold=0.12, mask=mask)\n",
    "im1[~mask] = 0\n",
    "\n",
    "im2 = images[1].copy()\n",
    "edges2 = feature.canny(im2, sigma=2, low_threshold=0.05, high_threshold=0.12, mask=mask)\n",
    "im2[~mask] = 0\n",
    "\n",
    "im3 = images[3].copy()\n",
    "edges3 = feature.canny(im3, sigma=2, low_threshold=0.05, high_threshold=0.12, mask=mask)\n",
    "im3[~mask] = 0\n",
    "\n",
    "fig, (ax1, ax2, ax3) = plt.subplots(nrows=3, ncols=2, figsize=(7, 10),\n",
    "                                    sharex=True, sharey=True)\n",
    "ax1[0].imshow(im1, cmap=plt.cm.gray)\n",
    "ax1[0].axis('off')\n",
    "ax1[0].set_title('Image 1')\n",
    "\n",
    "ax1[1].imshow(edges1, cmap=plt.cm.gray)\n",
    "ax1[1].axis('off')\n",
    "ax1[1].set_title('$\\sigma=2, low=0.05, high=0.12$')\n",
    "\n",
    "ax2[0].imshow(im2, cmap=plt.cm.gray)\n",
    "ax2[0].axis('off')\n",
    "ax2[0].set_title('Image 2')\n",
    "\n",
    "ax2[1].imshow(edges2, cmap=plt.cm.gray)\n",
    "ax2[1].axis('off')\n",
    "ax2[1].set_title('$\\sigma=2, low=0.05, high=0.12$')\n",
    "\n",
    "ax3[0].imshow(im3, cmap=plt.cm.gray)\n",
    "ax3[0].axis('off')\n",
    "ax3[0].set_title('Image 3')\n",
    "\n",
    "ax3[1].imshow(edges3, cmap=plt.cm.gray)\n",
    "ax3[1].axis('off')\n",
    "ax3[1].set_title('$\\sigma=2, low=0.05, high=0.12$')\n",
    "\n",
    "fig.tight_layout()\n",
    "\n",
    "plt.show()"
   ]
  },
  {
   "cell_type": "code",
   "execution_count": null,
   "metadata": {},
   "outputs": [],
   "source": [
    "sigma = 2\n",
    "low_threshold = 0.05\n",
    "high_threshold = 0.12\n",
    "\n",
    "sum_edges = []\n",
    "for im in images:    \n",
    "    edges = feature.canny(im,sigma=sigma, low_threshold=low_threshold, high_threshold=high_threshold, mask=mask)\n",
    "    sum_edges.append(np.sum(edges))\n",
    "\n",
    "sum_edges = np.array(sum_edges)\n",
    "sum_edges_rel = sum_edges/np.sum(mask)"
   ]
  },
  {
   "cell_type": "code",
   "execution_count": null,
   "metadata": {},
   "outputs": [],
   "source": [
    "# sum edges relative ist geteilt duch die anzahl der pixel in der maske\n",
    "df = pd.DataFrame(data = {\"ID\": ids, \"contrast\": contrast, \"contrast_masked\": contrast_masked, \"sum_edges\": sum_edges, \"sum_edges_relative\": sum_edges_rel })\n",
    "df.head()"
   ]
  },
  {
   "cell_type": "code",
   "execution_count": null,
   "metadata": {},
   "outputs": [],
   "source": [
    "df.to_csv(\"edges.csv\", index=False)"
   ]
  },
  {
   "cell_type": "code",
   "execution_count": null,
   "metadata": {},
   "outputs": [],
   "source": [
    "print(\"edges_mean: \" + str(sum_edges.mean()))\n",
    "print(\"edges_std: \" + str(sum_edges.std()))\n",
    "print(\"edges_rel_mean: \" + str(sum_edges_rel.mean()))\n",
    "print(\"edges_rel_std: \" + str(sum_edges_rel.std()))"
   ]
  },
  {
   "cell_type": "code",
   "execution_count": null,
   "metadata": {},
   "outputs": [],
   "source": []
  }
 ],
 "metadata": {
  "kernelspec": {
   "display_name": "Python 3",
   "language": "python",
   "name": "python3"
  },
  "language_info": {
   "codemirror_mode": {
    "name": "ipython",
    "version": 3
   },
   "file_extension": ".py",
   "mimetype": "text/x-python",
   "name": "python",
   "nbconvert_exporter": "python",
   "pygments_lexer": "ipython3",
   "version": "3.6.5"
  },
  "varInspector": {
   "cols": {
    "lenName": 16,
    "lenType": 16,
    "lenVar": 40
   },
   "kernels_config": {
    "python": {
     "delete_cmd_postfix": "",
     "delete_cmd_prefix": "del ",
     "library": "var_list.py",
     "varRefreshCmd": "print(var_dic_list())"
    },
    "r": {
     "delete_cmd_postfix": ") ",
     "delete_cmd_prefix": "rm(",
     "library": "var_list.r",
     "varRefreshCmd": "cat(var_dic_list()) "
    }
   },
   "types_to_exclude": [
    "module",
    "function",
    "builtin_function_or_method",
    "instance",
    "_Feature"
   ],
   "window_display": false
  }
 },
 "nbformat": 4,
 "nbformat_minor": 2
}
